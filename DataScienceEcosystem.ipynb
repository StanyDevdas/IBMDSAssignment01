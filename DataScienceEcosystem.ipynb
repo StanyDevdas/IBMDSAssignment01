{
 "cells": [
  {
   "cell_type": "markdown",
   "id": "4dcbdc24",
   "metadata": {},
   "source": [
    "# Data Science Tools and Ecosystem"
   ]
  },
  {
   "cell_type": "markdown",
   "id": "9d0701c4",
   "metadata": {},
   "source": [
    "In this notebook, Data Science Tools and Ecosystem are summarized"
   ]
  },
  {
   "cell_type": "markdown",
   "id": "ef693725",
   "metadata": {},
   "source": [
    "**Objectives:**\n",
    "- List popular languages for Data Science\n",
    "- List popular tools used for Data Science\n",
    "- To familarize with the aspect of using repositories"
   ]
  },
  {
   "cell_type": "markdown",
   "id": "80f69526",
   "metadata": {},
   "source": [
    "Some of the popular languages that Data Scientists use are:\n",
    "1. Python\n",
    "2. R\n",
    "3. SQL"
   ]
  },
  {
   "cell_type": "markdown",
   "id": "81cc604a",
   "metadata": {},
   "source": [
    "Some of the commonly used libraries used by Data Scientists include:\n",
    "1. NumPy\n",
    "2. Matplotlib\n",
    "3. Pandas\n",
    "4. Plotly\n",
    "5. Scikit-learn"
   ]
  },
  {
   "cell_type": "markdown",
   "id": "72eada83",
   "metadata": {},
   "source": [
    "| Data Science Tools |\n",
    "|:-----------:|\n",
    "| Jupyter Notebook |\n",
    "| Julia |\n",
    "| Tensorflow |"
   ]
  },
  {
   "cell_type": "markdown",
   "id": "1511752a",
   "metadata": {},
   "source": [
    "### Below are a few examples of evaluating arithmetic expressions in Python"
   ]
  },
  {
   "cell_type": "code",
   "execution_count": 3,
   "id": "ad8cae76",
   "metadata": {},
   "outputs": [
    {
     "data": {
      "text/plain": [
       "17"
      ]
     },
     "execution_count": 3,
     "metadata": {},
     "output_type": "execute_result"
    }
   ],
   "source": [
    "# This a simple arithmetic expression to mutiply then add integers\n",
    "(3*4)+5"
   ]
  },
  {
   "cell_type": "code",
   "execution_count": 6,
   "id": "a2d695ec",
   "metadata": {},
   "outputs": [
    {
     "name": "stdout",
     "output_type": "stream",
     "text": [
      "200 minutes equals to  3.3333333333333335 hours\n"
     ]
    }
   ],
   "source": [
    "# This will convert 200 minutes to hours by dividing by 60\n",
    "minutes = 200\n",
    "hours = minutes/60\n",
    "print(\"200 minutes equals to \",hours,\"hours\")"
   ]
  },
  {
   "cell_type": "markdown",
   "id": "11b59065",
   "metadata": {},
   "source": [
    "## Author\n",
    "Stany Devdas"
   ]
  }
 ],
 "metadata": {
  "kernelspec": {
   "display_name": "Python 3 (ipykernel)",
   "language": "python",
   "name": "python3"
  },
  "language_info": {
   "codemirror_mode": {
    "name": "ipython",
    "version": 3
   },
   "file_extension": ".py",
   "mimetype": "text/x-python",
   "name": "python",
   "nbconvert_exporter": "python",
   "pygments_lexer": "ipython3",
   "version": "3.11.5"
  }
 },
 "nbformat": 4,
 "nbformat_minor": 5
}
